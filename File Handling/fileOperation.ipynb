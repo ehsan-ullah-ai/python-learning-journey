{
 "cells": [
  {
   "cell_type": "code",
   "execution_count": null,
   "id": "513916a5",
   "metadata": {},
   "outputs": [
    {
     "name": "stdout",
     "output_type": "stream",
     "text": [
      "File has successfuly created!✅\n"
     ]
    }
   ],
   "source": [
    "# File handling\n",
    "# open() ---> has take two perameter 1. filename and 2. mode (like 'w':  write, 'r': read, 'a': append, and 'x': create if the file is not exist)\n",
    "\n",
    "# create and writing in file\n",
    "with open(\"example.txt\", 'w') as file: # 'w' is \n",
    "  file.write(\"I am Ehsan and welcome to coding universe\\n\")\n",
    "  file.write(\"I am witing in examle.txt file\")\n",
    "\n",
    "print(\"File has successfuly created!✅\")"
   ]
  },
  {
   "cell_type": "code",
   "execution_count": null,
   "id": "17e10342",
   "metadata": {},
   "outputs": [
    {
     "name": "stdout",
     "output_type": "stream",
     "text": [
      "Content has successfuly appended!✅\n"
     ]
    }
   ],
   "source": [
    "# appending more content in existing file\n",
    "with open(\"example.txt\", 'a') as file:\n",
    "  file.write(\"\\nI am appending more content in existing file\")\n",
    "  \n",
    "print(\"Content has successfuly appended!✅\")"
   ]
  },
  {
   "cell_type": "code",
   "execution_count": null,
   "id": "4034b6df",
   "metadata": {},
   "outputs": [
    {
     "name": "stdout",
     "output_type": "stream",
     "text": [
      "I am Ehsan and welcome to coding universe\n",
      "I am witing in examle.txt file\n",
      "I am appending more content in existing file\n"
     ]
    }
   ],
   "source": [
    "# reading from file\n",
    "with open(\"example.txt\", 'r') as file:\n",
    "  content = file.read()\n",
    "  print(content)"
   ]
  },
  {
   "cell_type": "code",
   "execution_count": null,
   "id": "f3cf0e37",
   "metadata": {},
   "outputs": [],
   "source": [
    "# read line by line\n",
    "# with open(\"example.txt\") as file:\n",
    "  # for line in file:\n",
    "    # print(line.strip()) # strip() ---> remove white space"
   ]
  },
  {
   "cell_type": "code",
   "execution_count": null,
   "id": "2e9a0e0b",
   "metadata": {},
   "outputs": [
    {
     "name": "stdout",
     "output_type": "stream",
     "text": [
      "36\n",
      "Woops! I have the delete the content\n",
      "The existing content are overwrite!✅\n"
     ]
    }
   ],
   "source": [
    "# 'w' ---> overwriting in a file\n",
    "with open(\"example.txt\", 'w') as file:\n",
    "  content = file.write(\"Woops! I have the delete the content\")\n",
    "  print(content)\n",
    "  \n",
    "with open(\"example.txt\") as file:\n",
    "  print(file.read())"
   ]
  },
  {
   "cell_type": "code",
   "execution_count": null,
   "id": "07728e20",
   "metadata": {},
   "outputs": [
    {
     "name": "stdout",
     "output_type": "stream",
     "text": [
      "Lines successfuly appended!✅\n"
     ]
    }
   ],
   "source": [
    "# append the list of line\n",
    "lines = [\"\\nFirst line\\nSecond line\\nThird line\"]\n",
    "with open(\"example.txt\", 'a') as file:\n",
    "  file.writelines(lines)\n",
    "\n",
    "print(\"Lines successfuly appended!✅\")"
   ]
  },
  {
   "cell_type": "code",
   "execution_count": 15,
   "id": "73a429e4",
   "metadata": {},
   "outputs": [],
   "source": [
    "line = \"\\nIts just line\"\n",
    "with open(\"example.txt\", 'a') as file:\n",
    "  file.write(line)"
   ]
  },
  {
   "cell_type": "code",
   "execution_count": null,
   "id": "6becdd37",
   "metadata": {},
   "outputs": [
    {
     "name": "stdout",
     "output_type": "stream",
     "text": [
      "The file does not exist\n"
     ]
    }
   ],
   "source": [
    "# delete the file\n",
    "import os\n",
    "\n",
    "if os.path.exists(\"sample.txt\"):\n",
    "  os.remove(\"example.txt\")\n",
    "  print(\"File has benn successfuly ✅\")\n",
    "else:\n",
    "  print(\"The file does not exist\")"
   ]
  },
  {
   "cell_type": "code",
   "execution_count": null,
   "id": "a90e469c",
   "metadata": {},
   "outputs": [
    {
     "name": "stdout",
     "output_type": "stream",
     "text": [
      "Binary data is here:\n",
      " b'\\x00\\x01\\x02\\x03'\n"
     ]
    }
   ],
   "source": [
    "# write in binary file\n",
    "data = b'\\x00\\x01\\x02\\x03'\n",
    "with open(\"example.bin\", 'wb') as file:\n",
    "  file.write(data)\n",
    "  \n",
    "# read binary file\n",
    "with open(\"example.bin\", 'rb') as file:\n",
    "  print(\"Binary data is here:\\n\", file.read())"
   ]
  },
  {
   "cell_type": "code",
   "execution_count": null,
   "id": "56ea43d2",
   "metadata": {},
   "outputs": [
    {
     "name": "stdout",
     "output_type": "stream",
     "text": [
      "File is readed ✅\n",
      "content successfuly copy to distinaton file ✅\n"
     ]
    }
   ],
   "source": [
    "# read the data from source text file and write to distination text file\n",
    "\n",
    "# copy data from source\n",
    "with open(\"source.txt\", 'r') as source_file:\n",
    "  content = source_file.read()\n",
    "print(\"File is readed ✅\") \n",
    "\n",
    "with open(\"distination.txt\", 'w') as distination_file:\n",
    "  distination_file.write(content)\n",
    "print(\"Content successfuly copy to distinaton file ✅\")"
   ]
  }
 ],
 "metadata": {
  "kernelspec": {
   "display_name": "base",
   "language": "python",
   "name": "python3"
  },
  "language_info": {
   "codemirror_mode": {
    "name": "ipython",
    "version": 3
   },
   "file_extension": ".py",
   "mimetype": "text/x-python",
   "name": "python",
   "nbconvert_exporter": "python",
   "pygments_lexer": "ipython3",
   "version": "3.12.7"
  }
 },
 "nbformat": 4,
 "nbformat_minor": 5
}
